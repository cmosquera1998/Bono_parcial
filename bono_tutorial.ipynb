{
  "cells": [
    {
      "cell_type": "markdown",
      "metadata": {
        "id": "kMHQrJ9ZxeVh"
      },
      "source": [
        "# Data Quality Tutorial\n",
        "\n",
        "Dataset: Homicidos, Colombia"
      ]
    },
    {
      "cell_type": "code",
      "source": [
        "!pip install pylev"
      ],
      "metadata": {
        "id": "DRvX0HklySHz"
      },
      "execution_count": null,
      "outputs": []
    },
    {
      "cell_type": "code",
      "execution_count": 99,
      "metadata": {
        "id": "wXOO69MrxeVs"
      },
      "outputs": [],
      "source": [
        "# Importing required libraries\n",
        "\n",
        "import re\n",
        "from random import randint\n",
        "from datetime import datetime\n",
        "\n",
        "import numpy as np\n",
        "import pandas as pd\n",
        "\n",
        "import pylev"
      ]
    },
    {
      "cell_type": "code",
      "execution_count": 100,
      "metadata": {
        "id": "f-CIYZ4FxeVw"
      },
      "outputs": [],
      "source": [
        "# Parameter for showing all columns when printing a dataframe\n",
        "pd.set_option('display.max_columns', None)"
      ]
    },
    {
      "cell_type": "code",
      "execution_count": 101,
      "metadata": {
        "id": "n2JpGODGxeVx"
      },
      "outputs": [],
      "source": [
        "# Loading data\n",
        "homicides_df = pd.read_csv(\"/data/homicides.csv\")"
      ]
    },
    {
      "cell_type": "code",
      "execution_count": 102,
      "metadata": {
        "colab": {
          "base_uri": "https://localhost:8080/"
        },
        "id": "_oGMwMv6xeV2",
        "outputId": "692f7bd7-964f-4a3b-b84f-917b6f438b57"
      },
      "outputs": [
        {
          "output_type": "execute_result",
          "data": {
            "text/plain": [
              "(12400, 23)"
            ]
          },
          "metadata": {},
          "execution_count": 102
        }
      ],
      "source": [
        "# Printing the dataset dimensions\n",
        "homicides_df.shape"
      ]
    },
    {
      "cell_type": "code",
      "execution_count": null,
      "metadata": {
        "id": "IUch7Gr2xeV5"
      },
      "outputs": [],
      "source": [
        "# Printing column data types\n",
        "homicides_df.dtypes"
      ]
    },
    {
      "cell_type": "code",
      "execution_count": 104,
      "metadata": {
        "id": "r-D48dZaxeV6"
      },
      "outputs": [],
      "source": [
        "# Deleting constant column\n",
        "del homicides_df[\"2015\"]"
      ]
    },
    {
      "cell_type": "code",
      "execution_count": null,
      "metadata": {
        "id": "lPkxQfg3xeV_"
      },
      "outputs": [],
      "source": [
        "homicides_df.head()"
      ]
    },
    {
      "cell_type": "code",
      "execution_count": 106,
      "metadata": {
        "id": "8i3vqIf_xeWB"
      },
      "outputs": [],
      "source": [
        "# Creating a lambda expression for datetime parsing\n",
        "dateparse = lambda x: datetime.strptime(x, \"%m/%d/%Y %H:%M:%S %p\")"
      ]
    },
    {
      "cell_type": "code",
      "execution_count": null,
      "metadata": {
        "id": "_GyY-eBaxeWH"
      },
      "outputs": [],
      "source": [
        "# Applying the validation to all values in column\n",
        "homicides_df[\"FECHA\"].apply(dateparse)\n",
        "\n",
        "# IT IS EXPECTED TO HAVE AN ERROR INTENTIONALLY"
      ]
    },
    {
      "cell_type": "code",
      "execution_count": 250,
      "metadata": {
        "id": "WZ0QlYuVxeWJ"
      },
      "outputs": [],
      "source": [
        "# Creating a function for validating which value is causing the previous error\n",
        "def error_in_format(x):\n",
        "    try:\n",
        "        datetime.strptime(x, \"%m/%d/%Y %H:%M:%S %p\")\n",
        "        return False\n",
        "    except:\n",
        "        return True"
      ]
    },
    {
      "cell_type": "code",
      "execution_count": null,
      "metadata": {
        "id": "1mTRMd4ZxeWK"
      },
      "outputs": [],
      "source": [
        "# Using the function for validation\n",
        "homicides_df.loc[homicides_df[\"FECHA\"].apply(error_in_format)]\n",
        "\n",
        "# THE LAST ERROR IS CAUSING THE ERROR"
      ]
    },
    {
      "cell_type": "code",
      "execution_count": 111,
      "metadata": {
        "id": "xY3LOB1uxeWL"
      },
      "outputs": [],
      "source": [
        "# Deleting an error by its index\n",
        "homicides_df = homicides_df.drop([12399])"
      ]
    },
    {
      "cell_type": "code",
      "execution_count": 112,
      "metadata": {
        "id": "L86UVffDxeWN"
      },
      "outputs": [],
      "source": [
        "# Trying to parse the datetime string again\n",
        "homicides_df[\"FECHA\"] = homicides_df[\"FECHA\"].apply(dateparse)"
      ]
    },
    {
      "cell_type": "code",
      "execution_count": 113,
      "metadata": {
        "colab": {
          "base_uri": "https://localhost:8080/"
        },
        "id": "l0De7IsIxeWO",
        "outputId": "bc38a916-7fce-4db5-92fc-fd9ee2e3695d"
      },
      "outputs": [
        {
          "output_type": "execute_result",
          "data": {
            "text/plain": [
              "12    12399\n",
              "Name: FECHA, dtype: int64"
            ]
          },
          "metadata": {},
          "execution_count": 113
        }
      ],
      "source": [
        "# Counting homicides hour\n",
        "homicides_df[\"FECHA\"].dt.hour.value_counts()\n",
        "\n",
        "# All datetime hour parts are the same"
      ]
    },
    {
      "cell_type": "code",
      "execution_count": 114,
      "metadata": {
        "id": "EIgTC9QoxeWP"
      },
      "outputs": [],
      "source": [
        "# The homicide hour is available in a different column!!!\n",
        "# Merging both columns\n",
        "homicides_df[\"FECHA\"] = homicides_df[\"FECHA\"].astype(str).apply(lambda x: x[:11]) + homicides_df[\"HORA\"]"
      ]
    },
    {
      "cell_type": "code",
      "execution_count": 115,
      "metadata": {
        "id": "VR9-tyx6xeWQ"
      },
      "outputs": [],
      "source": [
        "del homicides_df[\"HORA\"]"
      ]
    },
    {
      "cell_type": "code",
      "execution_count": null,
      "metadata": {
        "id": "0jMtErqxxeWR"
      },
      "outputs": [],
      "source": [
        "homicides_df[\"FECHA\"].head()"
      ]
    },
    {
      "cell_type": "code",
      "execution_count": 117,
      "metadata": {
        "id": "sxOJvH5yxeWS"
      },
      "outputs": [],
      "source": [
        "# Making a new expression for datetime parsing\n",
        "dateparse = lambda x: datetime.strptime(x, \"%Y-%m-%d %H:%M\")"
      ]
    },
    {
      "cell_type": "code",
      "execution_count": 118,
      "metadata": {
        "id": "AMizmb3gxeWS"
      },
      "outputs": [],
      "source": [
        "# Applying the expression\n",
        "homicides_df[\"FECHA\"] = homicides_df[\"FECHA\"].apply(dateparse)"
      ]
    },
    {
      "cell_type": "code",
      "execution_count": null,
      "metadata": {
        "id": "qA3plES6xeWT"
      },
      "outputs": [],
      "source": [
        "homicides_df.dtypes"
      ]
    },
    {
      "cell_type": "code",
      "execution_count": null,
      "metadata": {
        "id": "XW18KbNPxeWX"
      },
      "outputs": [],
      "source": [
        "homicides_df.head()"
      ]
    },
    {
      "cell_type": "code",
      "execution_count": 121,
      "metadata": {
        "id": "v89QJnmtxeWY"
      },
      "outputs": [],
      "source": [
        "# Creating a dictionary representing the valid departments for Colombia\n",
        "departments_list = ['ANTIOQUIA', 'ATLÁNTICO', 'BOLÍVAR', 'BOYACÁ', 'CALDAS', 'CAQUETÁ',\n",
        "       'CASANARE', 'CAUCA', 'CESAR', 'CHOCÓ', 'CÓRDOBA', 'META',\n",
        "       'CUNDINAMARCA', 'HUILA', 'MAGDALENA', 'NARIÑO', 'PUTUMAYO',\n",
        "       'RISARALDA', 'SANTANDER', 'SUCRE', 'TOLIMA', 'VALLE',\n",
        "       'NORTE DE SANTANDER', 'GUAJIRA', 'QUINDÍO', 'SAN ANDRÉS Y PROVIDENCIA', 'ARAUCA',\n",
        "       'GUAINÍA', 'VICHADA', 'VAUPÉS', 'GUAVIARE', 'AMAZONAS']"
      ]
    },
    {
      "cell_type": "code",
      "execution_count": 122,
      "metadata": {
        "colab": {
          "base_uri": "https://localhost:8080/"
        },
        "id": "5hlp-OkexeWZ",
        "outputId": "66e86a00-d9d3-4cbc-f13a-2e035a831bed"
      },
      "outputs": [
        {
          "output_type": "execute_result",
          "data": {
            "text/plain": [
              "array(['SAN ANDRÉS', 'N. DE SANTANDER'], dtype=object)"
            ]
          },
          "metadata": {},
          "execution_count": 122
        }
      ],
      "source": [
        "# Finding values not matching with the dictionary\n",
        "homicides_df.loc[~homicides_df[\"DEPARTAMENTO\"].isin(departments_list), \"DEPARTAMENTO\"].unique()"
      ]
    },
    {
      "cell_type": "markdown",
      "metadata": {
        "id": "jsTUbP_nxeWa"
      },
      "source": [
        "<span style=\"color:red\">TODO: Check and replace, if apply, the values identified as error because do not match with the dictionary</span>"
      ]
    },
    {
      "cell_type": "code",
      "source": [
        "#Se reemplazaron los dos valores encontrados como erróneos 'SAN ANDRÉS' y  'N. DE SANTANDER'\n",
        "homicides_df = homicides_df.replace(['SAN ANDRÉS'], 'SAN ANDRÉS Y PROVIDENCIA')\n",
        "homicides_df = homicides_df.replace(['N. DE SANTANDER'], 'NORTE DE SANTANDER')"
      ],
      "metadata": {
        "id": "WjYwTwk9xeWa"
      },
      "execution_count": 142,
      "outputs": []
    },
    {
      "cell_type": "code",
      "source": [
        "#Se vuelve  a verificar los datos y obtendremos la lista vacía dado que no hay valores erróneos\n",
        "homicides_df.loc[~homicides_df[\"DEPARTAMENTO\"].isin(departments_list), \"DEPARTAMENTO\"].unique()"
      ],
      "metadata": {
        "colab": {
          "base_uri": "https://localhost:8080/"
        },
        "id": "PamvmalmBom0",
        "outputId": "7bb5198d-a8d8-47e8-9b3e-478668efe349"
      },
      "execution_count": 143,
      "outputs": [
        {
          "output_type": "execute_result",
          "data": {
            "text/plain": [
              "array([], dtype=object)"
            ]
          },
          "metadata": {},
          "execution_count": 143
        }
      ]
    },
    {
      "cell_type": "code",
      "execution_count": 149,
      "metadata": {
        "id": "hTini41IxeWb"
      },
      "outputs": [],
      "source": [
        "# Detecting duplicates by \"CÉDULA\" column\n",
        "duplicates_by_cedula = homicides_df.loc[homicides_df[\"CÉDULA\"].duplicated(keep = False)]"
      ]
    },
    {
      "cell_type": "code",
      "execution_count": 148,
      "metadata": {
        "colab": {
          "base_uri": "https://localhost:8080/"
        },
        "id": "mTSKBeYyxeWc",
        "outputId": "30a08a9a-c348-447d-8310-e251cd3173af"
      },
      "outputs": [
        {
          "output_type": "execute_result",
          "data": {
            "text/plain": [
              "(0, 21)"
            ]
          },
          "metadata": {},
          "execution_count": 148
        }
      ],
      "source": [
        "duplicates_by_cedula.shape"
      ]
    },
    {
      "cell_type": "code",
      "execution_count": null,
      "metadata": {
        "id": "IjyrfNEgxeWd"
      },
      "outputs": [],
      "source": [
        "# Showing some examples\n",
        "duplicates_by_cedula.sort_values(\"CÉDULA\", ascending = True).head(6)"
      ]
    },
    {
      "cell_type": "markdown",
      "metadata": {
        "id": "ijv906lVxeWe"
      },
      "source": [
        "<span style=\"color:red\">TODO: Delete records with \"CÉDULA\" duplicated</span>\n",
        "\n",
        "<span style=\"color:red\">Hint: You can use drop_duplicates() function. Make sure to update original dataframe. Google it!</span>"
      ]
    },
    {
      "cell_type": "code",
      "execution_count": null,
      "metadata": {
        "id": "tpRxoKmXxeWe"
      },
      "outputs": [],
      "source": [
        "#Se estableció el parámetro subset con el valor de la cédula para eliminar los duplicados en esa columna\n",
        "# y keep='first' para eliminar todas las filas excepto la primera  \n",
        "homicides_df.drop_duplicates(subset=['CÉDULA'], keep='first')"
      ]
    },
    {
      "cell_type": "code",
      "source": [
        "#se verifica nuevamente el numero de registro \n",
        "homicides_df.shape"
      ],
      "metadata": {
        "colab": {
          "base_uri": "https://localhost:8080/"
        },
        "id": "QmlNVF3aN1fQ",
        "outputId": "69522661-36eb-4ad3-e6ae-c0a0060e93f4"
      },
      "execution_count": 166,
      "outputs": [
        {
          "output_type": "execute_result",
          "data": {
            "text/plain": [
              "(11563, 21)"
            ]
          },
          "metadata": {},
          "execution_count": 166
        }
      ]
    },
    {
      "cell_type": "code",
      "execution_count": 217,
      "metadata": {
        "id": "R0i4ja7CxeWf"
      },
      "outputs": [],
      "source": [
        "# Using regular expressions for validating if \"CÉDULA\" values match the pattern XX-XXX\n",
        "cedula_malformed = homicides_df.loc[homicides_df[\"CÉDULA\"].astype(str).apply(lambda x: (re.match(\"\\d{2}-\\d{3}\", x) is None))]"
      ]
    },
    {
      "cell_type": "code",
      "execution_count": 218,
      "metadata": {
        "colab": {
          "base_uri": "https://localhost:8080/"
        },
        "id": "P5JJ4g8TxeWf",
        "outputId": "6b3ca5a6-c1c9-41c1-aa98-7299b2463d42"
      },
      "outputs": [
        {
          "output_type": "execute_result",
          "data": {
            "text/plain": [
              "(28, 21)"
            ]
          },
          "metadata": {},
          "execution_count": 218
        }
      ],
      "source": [
        "cedula_malformed.shape"
      ]
    },
    {
      "cell_type": "code",
      "execution_count": null,
      "metadata": {
        "id": "GxmSd7q5xeWg"
      },
      "outputs": [],
      "source": [
        "cedula_malformed.head(6)"
      ]
    },
    {
      "cell_type": "markdown",
      "metadata": {
        "id": "eo6Dp_LxxeWg"
      },
      "source": [
        "<span style=\"color:red\">TODO: Fix the malformed \"CÉDULA\" values. Make sure to update original dataframe.</span>"
      ]
    },
    {
      "cell_type": "code",
      "source": [
        "data_1 = cedula_malformed.iloc[:1,:]"
      ],
      "metadata": {
        "id": "aBGweSQCUx07"
      },
      "execution_count": 227,
      "outputs": []
    },
    {
      "cell_type": "markdown",
      "metadata": {
        "id": "SpjTf1dmxeWh"
      },
      "source": [
        "<span style=\"color:red\">TODO: Make something similar to check and fix the \"CORREO\" column (PATTERN: 4 digits before the @, only .edu.co and .com domains allowed)</span>"
      ]
    },
    {
      "cell_type": "code",
      "execution_count": null,
      "metadata": {
        "id": "92Wtb0OOxeWh"
      },
      "outputs": [],
      "source": [
        ""
      ]
    },
    {
      "cell_type": "code",
      "execution_count": null,
      "metadata": {
        "id": "tz6IP_EDxeWh"
      },
      "outputs": [],
      "source": [
        "# Showing different values for \"DIA\" column\n",
        "homicides_df[\"DIA\"].unique()"
      ]
    },
    {
      "cell_type": "code",
      "execution_count": null,
      "metadata": {
        "id": "FcL14c5AxeWh"
      },
      "outputs": [],
      "source": [
        "# Calculating the distance between two words using the Levenshtein method\n",
        "pylev.levenshtein('sábado', 'sabaod')"
      ]
    },
    {
      "cell_type": "code",
      "execution_count": null,
      "metadata": {
        "id": "FrACDZc5xeWh"
      },
      "outputs": [],
      "source": [
        "pylev.levenshtein('sábado', 'viernes')"
      ]
    },
    {
      "cell_type": "markdown",
      "metadata": {
        "id": "9grP3848xeWh"
      },
      "source": [
        "<span style=\"color:red\">TODO: Create a function to fix the digitation errors for column \"DIA\". Make sure to update original dataframe.</span>"
      ]
    },
    {
      "cell_type": "code",
      "execution_count": null,
      "metadata": {
        "id": "PPAqeowyxeWi"
      },
      "outputs": [],
      "source": [
        ""
      ]
    },
    {
      "cell_type": "code",
      "execution_count": null,
      "metadata": {
        "id": "ZUO8R5yixeWi"
      },
      "outputs": [],
      "source": [
        "homicides_df[\"DIA\"].unique()"
      ]
    },
    {
      "cell_type": "code",
      "execution_count": null,
      "metadata": {
        "id": "XMhpEHPlxeWi"
      },
      "outputs": [],
      "source": [
        "homicides_df[[\"AÑO DE NACIMIENTO\", \"EDAD\"]].head(10)"
      ]
    },
    {
      "cell_type": "markdown",
      "metadata": {
        "id": "h_BUQyFjxeWi"
      },
      "source": [
        "<span style=\"color:red\">TODO: Check and fix, if apply, the column \"AÑO DE NACIMIENTO\", using the column \"EDAD\". Make sure to update original dataframe.</span>"
      ]
    },
    {
      "cell_type": "code",
      "execution_count": null,
      "metadata": {
        "id": "avRaeNxHxeWi"
      },
      "outputs": [],
      "source": [
        ""
      ]
    }
  ],
  "metadata": {
    "kernelspec": {
      "display_name": "Python 3",
      "language": "python",
      "name": "python3"
    },
    "language_info": {
      "codemirror_mode": {
        "name": "ipython",
        "version": 3
      },
      "file_extension": ".py",
      "mimetype": "text/x-python",
      "name": "python",
      "nbconvert_exporter": "python",
      "pygments_lexer": "ipython3",
      "version": "3.7.6"
    },
    "colab": {
      "name": "bono-tutorial.ipynb",
      "provenance": []
    }
  },
  "nbformat": 4,
  "nbformat_minor": 0
}